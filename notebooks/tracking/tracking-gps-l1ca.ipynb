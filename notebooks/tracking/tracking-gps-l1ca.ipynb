{
 "cells": [
  {
   "cell_type": "code",
   "execution_count": 1,
   "metadata": {
    "collapsed": false
   },
   "outputs": [],
   "source": [
    "from numpy import float32, pi, imag, real\n",
    "# import matplotlib.pyplot as plt\n",
    "from bokeh.plotting import Session, show, figure, output_server, hplot\n",
    "from bokeh.models import Range1d\n",
    "from bokeh.charts import Histogram\n",
    "\n",
    "from gnss import codes\n",
    "from gnss.receiver import channels\n",
    "from gnss.signals import Signal\n",
    "from gnss.receiver import sources\n",
    "from gnss.filters import iir_filter\n",
    "from gnss.acquisition import coarse, fine\n",
    "from gnss.receiver import outputs\n",
    "from gnss.tracking import tracking\n",
    "from gnss.visualization import plot_outputs, plot_coarse_acquisition_results, plot_fine_acquisition_results, TrackingPlot"
   ]
  },
  {
   "cell_type": "markdown",
   "metadata": {},
   "source": [
    "# DON'T FORGET\n",
    "Run\n",
    "    \n",
    "    > bokeh-server -m --ip <ip>\n",
    "\n",
    "from the command line."
   ]
  },
  {
   "cell_type": "code",
   "execution_count": 2,
   "metadata": {
    "collapsed": true
   },
   "outputs": [],
   "source": [
    "session = Session(root_url='http://192.168.3.137:5006/', load_from_config=False)"
   ]
  },
  {
   "cell_type": "code",
   "execution_count": 3,
   "metadata": {
    "collapsed": false
   },
   "outputs": [],
   "source": [
    "session.register('anon', '1234')"
   ]
  },
  {
   "cell_type": "code",
   "execution_count": 4,
   "metadata": {
    "collapsed": false
   },
   "outputs": [],
   "source": [
    "session.login('anon', '1234')\n",
    "output_server('tracking', session=session)"
   ]
  },
  {
   "cell_type": "code",
   "execution_count": 5,
   "metadata": {
    "collapsed": true
   },
   "outputs": [],
   "source": [
    "%reload_ext autoreload\n",
    "%autoreload 2"
   ]
  },
  {
   "cell_type": "code",
   "execution_count": 6,
   "metadata": {
    "collapsed": false
   },
   "outputs": [
    {
     "name": "stdout",
     "output_type": "stream",
     "text": [
      "1.3G\t/mnt/gluster/by-location/ascension-island/a1/gpsl2/usrp5/20130307_184310\r\n"
     ]
    }
   ],
   "source": [
    "!du -hs /mnt/gluster/by-location/ascension-island/a1/gpsl2/usrp5/20130307_184310"
   ]
  },
  {
   "cell_type": "markdown",
   "metadata": {},
   "source": [
    "\n",
    "We are using data from the USRP front ends. This data contains *signed 4-bit complex* samples.\n",
    "\n",
    "\n",
    "- L2:\n",
    "    - 5MHz sampling frequency\n",
    "    - 1.2276GHz center frequency\n",
    "- L1:\n",
    "    - 25MHz sampling\n",
    "    - 1.57542GHz center frequency\n",
    "- L5:\n",
    "    - 25MHz sampling\n",
    "    - 1.17645GHz center frequency\n",
    "\n",
    "HIGH RATE DATA\n",
    "\n",
    "- 0Hz IF\n",
    "- 100MHz sampling frequency\n",
    "\n",
    "- high rate center frequency\n",
    "    - L1: 1.5675GHz\n",
    "    - L2/L5 band: 1.212GHz\n",
    "\n",
    "- high rate L1\n",
    "    - 100MHz sampling frequency\n",
    "    - 7.92MHz intermediate frequency\n",
    "\n",
    "- high rate L2/L5\n",
    "    - L1 7.92MHz intermediate frequency\n",
    "    - L2 15.6MHz intermediate frequency\n",
    "    - L5 -35.55MHz intermediate frequency\n",
    "\n",
    "- high rate GLONASS\n",
    "    - L1 34.5MHz intermediate frequency\n",
    "    - L2 34MHz intermediate frequency\n",
    "\n",
    "- high rate Galileo\n",
    "    - E1BC 7.92MHz intermediate frequency\n",
    "    - E5a -35.55MHz intermediate frequency\n",
    "    - E5b -4.86MHz intermediate frequency\n",
    "\n",
    "- high rate Beidou\n",
    "    - B1 -6.402MHz intermediate frequency\n",
    "    - B2 -4.86MHz intermediate frequency\n",
    "    \n",
    "\n",
    "First file: anything in the L1 band\n",
    "\n",
    "Second file: anything in the low band (L2/L5)\n",
    "\n",
    "These files are large, so we should choose a reasonable buffer size for their data. 2 seconds worth of data would be:"
   ]
  },
  {
   "cell_type": "code",
   "execution_count": 7,
   "metadata": {
    "collapsed": false
   },
   "outputs": [
    {
     "data": {
      "text/plain": [
       "(10000000.0, 50000000.0)"
      ]
     },
     "execution_count": 7,
     "metadata": {},
     "output_type": "execute_result"
    }
   ],
   "source": [
    "5e6 * 2, 25e6 * 2"
   ]
  },
  {
   "cell_type": "markdown",
   "metadata": {},
   "source": [
    "which are 10 mega-samples and 50 mega-samples respectively."
   ]
  },
  {
   "cell_type": "code",
   "execution_count": 8,
   "metadata": {
    "collapsed": false
   },
   "outputs": [
    {
     "name": "stdout",
     "output_type": "stream",
     "text": [
      "we have 1.0 seconds of data\n"
     ]
    }
   ],
   "source": [
    "# filepath = '/media/DataStore/x300_l1_test_100MHz.sc4'\n",
    "# source = sources.FileSource(filepath, file_f_samp=100e6, f_center=1.5675e9, buffer_size=25e6, bit_depth=4, real=False, decimation=2)\n",
    "# 27min 47sec, fs: 5MHz L1/L2, 25MHz L5  OHz IF\n",
    "filepath = '/mnt/gluster/by-drives/Dell/MU-Portable/OUDC3/US_A1_20140808_122714_002747_GPSL1_USRP1.dat'\n",
    "source = sources.FileSource(filepath, file_f_samp=5e6, f_center=1.57542e9, buffer_size=5e6, bit_depth=4, real=False, decimation=1)\n",
    "source.load()\n",
    "print('we have {0} seconds of data'.format(source.buffer_size / source.f_samp))"
   ]
  },
  {
   "cell_type": "code",
   "execution_count": 9,
   "metadata": {
    "collapsed": true
   },
   "outputs": [],
   "source": [
    "while source.buffer_start_time < 70:\n",
    "    source.advance(overlap=0)"
   ]
  },
  {
   "cell_type": "code",
   "execution_count": 10,
   "metadata": {
    "collapsed": false
   },
   "outputs": [],
   "source": [
    "svid = 29\n",
    "signal = Signal.GPSL1CA(svid)\n",
    "\n",
    "c_acq = coarse.CoarseAcquirerLowMem(source, 5e-3, 2)\n",
    "f_acq = fine.FineAcquirer(source, 2e-3, 1e-3, 29)"
   ]
  },
  {
   "cell_type": "code",
   "execution_count": null,
   "metadata": {
    "collapsed": true
   },
   "outputs": [],
   "source": [
    "step = 10e-3\n",
    "f_update = 1. / step\n",
    "block_length = 10e-3\n",
    "block_size = block_length * source.f_samp\n",
    "\n",
    "output_buff_size = source.buffer_size / (step * source.f_samp)\n",
    "track_plot = TrackingPlot(int(output_buff_size))\n",
    "track_plot.show()"
   ]
  },
  {
   "cell_type": "code",
   "execution_count": 41,
   "metadata": {
    "collapsed": false
   },
   "outputs": [],
   "source": [
    "dll_filter = iir_filter.FirstOrderLowpass(10, f_update)\n",
    "# pll_filter = iir_filter.FirstOrderLowpass(12, f_update)\n",
    "# pll_filter = iir_filter.SecondOrderLowpass(omega_n=5 * 12, zeta=1.7, fs=f_update)\n",
    "pll_filter = iir_filter.SecondOrderLowpassV2(omega_n=5 * 32, zeta=1.7, fs=f_update)\n",
    "fll_filter = iir_filter.FirstOrderLowpass(.5, f_update);  fll_filter.f(0);  fll_filter.f(0)\n",
    "\n",
    "delay = .5\n",
    "correlator = tracking.Correlator(chip_delays=[-delay, 0., delay])"
   ]
  },
  {
   "cell_type": "code",
   "execution_count": 52,
   "metadata": {
    "collapsed": false
   },
   "outputs": [
    {
     "name": "stdout",
     "output_type": "stream",
     "text": [
      "601.3194 -2400.0 224.83999999999924 93.4616828129\n"
     ]
    }
   ],
   "source": [
    "c_acq.acquire(signal)\n",
    "chip0 = c_acq.chip\n",
    "f_dopp = c_acq.f_dopp\n",
    "time = c_acq.time\n",
    "cn0 = c_acq.cn0\n",
    "print(chip0, f_dopp, time, cn0)"
   ]
  },
  {
   "cell_type": "code",
   "execution_count": 53,
   "metadata": {
    "collapsed": false
   },
   "outputs": [
    {
     "name": "stdout",
     "output_type": "stream",
     "text": [
      "601.3194 -2438.81448036 224.83999999999924\n"
     ]
    }
   ],
   "source": [
    "f_acq.acquire(signal, time, chip0, f_dopp)\n",
    "f_dopp = f_acq.f_dopp\n",
    "time = f_acq.time\n",
    "print(chip0, f_dopp, time)"
   ]
  },
  {
   "cell_type": "code",
   "execution_count": 20,
   "metadata": {
    "collapsed": false
   },
   "outputs": [],
   "source": [
    "p_coarse = plot_coarse_acquisition_results(c_acq)\n",
    "p_fine = plot_fine_acquisition_results(f_acq)\n",
    "show(hplot(p_coarse, p_fine))"
   ]
  },
  {
   "cell_type": "code",
   "execution_count": 39,
   "metadata": {
    "collapsed": false
   },
   "outputs": [],
   "source": [
    "# source.reset()\n",
    "time = f_acq.time"
   ]
  },
  {
   "cell_type": "code",
   "execution_count": 54,
   "metadata": {
    "collapsed": false
   },
   "outputs": [
    {
     "ename": "KeyboardInterrupt",
     "evalue": "",
     "output_type": "error",
     "traceback": [
      "\u001b[1;31m---------------------------------------------------------------------------\u001b[0m",
      "\u001b[1;31mKeyboardInterrupt\u001b[0m                         Traceback (most recent call last)",
      "\u001b[1;32m<ipython-input-54-0ca16e8002f9>\u001b[0m in \u001b[0;36m<module>\u001b[1;34m()\u001b[0m\n\u001b[0;32m      3\u001b[0m \u001b[1;32mwhile\u001b[0m \u001b[1;32mTrue\u001b[0m\u001b[1;33m:\u001b[0m\u001b[1;33m\u001b[0m\u001b[0m\n\u001b[0;32m      4\u001b[0m     \u001b[1;32mwhile\u001b[0m \u001b[0mtime\u001b[0m \u001b[1;33m<\u001b[0m \u001b[0msource\u001b[0m\u001b[1;33m.\u001b[0m\u001b[0mmax_time\u001b[0m \u001b[1;33m-\u001b[0m \u001b[1;36m2\u001b[0m \u001b[1;33m*\u001b[0m \u001b[0mblock_length\u001b[0m\u001b[1;33m:\u001b[0m\u001b[1;33m\u001b[0m\u001b[0m\n\u001b[1;32m----> 5\u001b[1;33m         \u001b[0mcode_corr\u001b[0m\u001b[1;33m,\u001b[0m \u001b[0mdopp_corr\u001b[0m \u001b[1;33m=\u001b[0m \u001b[0mcorrelator\u001b[0m\u001b[1;33m.\u001b[0m\u001b[0mcorrelate\u001b[0m\u001b[1;33m(\u001b[0m\u001b[0msignal\u001b[0m\u001b[1;33m,\u001b[0m \u001b[0msource\u001b[0m\u001b[1;33m,\u001b[0m \u001b[0mblock_size\u001b[0m\u001b[1;33m,\u001b[0m \u001b[0mtime\u001b[0m\u001b[1;33m,\u001b[0m \u001b[0mchip\u001b[0m\u001b[1;33m,\u001b[0m \u001b[0mf_dopp\u001b[0m\u001b[1;33m,\u001b[0m \u001b[0mtheta\u001b[0m\u001b[1;33m)\u001b[0m\u001b[1;33m\u001b[0m\u001b[0m\n\u001b[0m\u001b[0;32m      6\u001b[0m         \u001b[0mearly\u001b[0m\u001b[1;33m,\u001b[0m \u001b[0mprompt\u001b[0m\u001b[1;33m,\u001b[0m \u001b[0mlate\u001b[0m \u001b[1;33m=\u001b[0m \u001b[0mcode_corr\u001b[0m\u001b[1;33m\u001b[0m\u001b[0m\n\u001b[0;32m      7\u001b[0m         \u001b[0mchip_error\u001b[0m \u001b[1;33m=\u001b[0m \u001b[0mtracking\u001b[0m\u001b[1;33m.\u001b[0m\u001b[0mdelay_discriminator\u001b[0m\u001b[1;33m(\u001b[0m\u001b[0mearly\u001b[0m\u001b[1;33m,\u001b[0m \u001b[0mprompt\u001b[0m\u001b[1;33m,\u001b[0m \u001b[0mlate\u001b[0m\u001b[1;33m)\u001b[0m\u001b[1;33m\u001b[0m\u001b[0m\n",
      "\u001b[1;32m/home/breitsbw/projects/pygnss/gnss/tracking/tracking.py\u001b[0m in \u001b[0;36mcorrelate\u001b[1;34m(self, signal, source, block_size, time, chip, f_dopp, theta)\u001b[0m\n\u001b[0;32m     19\u001b[0m         \u001b[0mt\u001b[0m \u001b[1;33m=\u001b[0m \u001b[0mnumpy\u001b[0m\u001b[1;33m.\u001b[0m\u001b[0marange\u001b[0m\u001b[1;33m(\u001b[0m\u001b[0mblock_size\u001b[0m\u001b[1;33m)\u001b[0m \u001b[1;33m/\u001b[0m \u001b[0msource\u001b[0m\u001b[1;33m.\u001b[0m\u001b[0mf_samp\u001b[0m\u001b[1;33m\u001b[0m\u001b[0m\n\u001b[0;32m     20\u001b[0m         \u001b[0mf_inter\u001b[0m \u001b[1;33m=\u001b[0m \u001b[0msignal\u001b[0m\u001b[1;33m.\u001b[0m\u001b[0mf_carrier\u001b[0m \u001b[1;33m-\u001b[0m \u001b[0msource\u001b[0m\u001b[1;33m.\u001b[0m\u001b[0mf_center\u001b[0m\u001b[1;33m\u001b[0m\u001b[0m\n\u001b[1;32m---> 21\u001b[1;33m         \u001b[0mcarrierless\u001b[0m \u001b[1;33m=\u001b[0m \u001b[0msamples\u001b[0m \u001b[1;33m*\u001b[0m \u001b[0mnumpy\u001b[0m\u001b[1;33m.\u001b[0m\u001b[0mexp\u001b[0m\u001b[1;33m(\u001b[0m\u001b[1;33m-\u001b[0m\u001b[1;36m2j\u001b[0m \u001b[1;33m*\u001b[0m \u001b[0mnumpy\u001b[0m\u001b[1;33m.\u001b[0m\u001b[0mpi\u001b[0m \u001b[1;33m*\u001b[0m \u001b[1;33m(\u001b[0m\u001b[0mf_inter\u001b[0m \u001b[1;33m+\u001b[0m \u001b[0mf_dopp\u001b[0m\u001b[1;33m)\u001b[0m \u001b[1;33m*\u001b[0m \u001b[0mt\u001b[0m \u001b[1;33m-\u001b[0m \u001b[1;36m1j\u001b[0m \u001b[1;33m*\u001b[0m \u001b[0mtheta\u001b[0m\u001b[1;33m)\u001b[0m\u001b[1;33m\u001b[0m\u001b[0m\n\u001b[0m\u001b[0;32m     22\u001b[0m         \u001b[0mcodeless\u001b[0m \u001b[1;33m=\u001b[0m \u001b[0msamples\u001b[0m \u001b[1;33m*\u001b[0m \u001b[0mcode_samples\u001b[0m\u001b[1;33m(\u001b[0m\u001b[0msignal\u001b[0m\u001b[1;33m,\u001b[0m \u001b[0mf_dopp\u001b[0m\u001b[1;33m,\u001b[0m \u001b[0mt\u001b[0m\u001b[1;33m,\u001b[0m \u001b[0mchip\u001b[0m\u001b[1;33m)\u001b[0m\u001b[1;33m\u001b[0m\u001b[0m\n\u001b[0;32m     23\u001b[0m         chip_delay_outputs = (numpy.sum(carrierless * code_samples(signal, f_dopp, t, chip + delay)) \\\n",
      "\u001b[1;31mKeyboardInterrupt\u001b[0m: "
     ]
    }
   ],
   "source": [
    "theta = last_phase_error = 0.\n",
    "chip = chip_out = chip0\n",
    "while True:\n",
    "    while time < source.max_time - 2 * block_length:\n",
    "        code_corr, dopp_corr = correlator.correlate(signal, source, block_size, time, chip, f_dopp, theta)\n",
    "        early, prompt, late = code_corr\n",
    "        chip_error = tracking.delay_discriminator(early, prompt, late)\n",
    "        phase_error = -tracking.costas_discriminator(prompt)  # minus sign used b/c phase is subtracted in signal correlator\n",
    "        chip_error = dll_filter.f(chip_error)\n",
    "        phase_error = pll_filter.f(phase_error)\n",
    "        dopp_error = (phase_error - last_phase_error) / (step * 2 * pi)\n",
    "        last_phase_error = phase_error\n",
    "        dopp_error = fll_filter.f(dopp_error)\n",
    "        # error correction\n",
    "        chip -= chip_error\n",
    "        theta -= phase_error\n",
    "        f_dopp -= dopp_error\n",
    "        # carrier-aiding and propagation\n",
    "        time += step\n",
    "        f_chip = signal.code.rate * (1. + f_dopp / signal.f_carrier)\n",
    "        chip += step * f_chip\n",
    "        f_inter = signal.f_carrier - source.f_center\n",
    "        theta += step * (f_inter + f_dopp) * 2. * pi\n",
    "        # outputs\n",
    "        chip_out = chip_out - chip_error\n",
    "        track_plot.push_data(time, real(prompt), imag(prompt), phase_error, f_dopp)\n",
    "    track_plot.update()\n",
    "    source.advance(overlap=int(2 * source.f_samp * 0.01))"
   ]
  },
  {
   "cell_type": "markdown",
   "metadata": {},
   "source": [
    ".\n",
    "\n",
    ".\n",
    "\n",
    "PARTIAL TRACKING"
   ]
  },
  {
   "cell_type": "code",
   "execution_count": 25,
   "metadata": {
    "collapsed": false
   },
   "outputs": [],
   "source": [
    "# time = 0.0\n",
    "# source.reset()\n",
    "time = f_acq.time"
   ]
  },
  {
   "cell_type": "code",
   "execution_count": 19,
   "metadata": {
    "collapsed": false
   },
   "outputs": [],
   "source": [
    "theta = last_phase_error = 0.\n",
    "chip = chip_out = chip0\n",
    "while time < source.max_time - 2 * block_length:\n",
    "    code_corr, dopp_corr = correlator.correlate(signal, source, block_size, time, chip, f_dopp, theta)\n",
    "    early, prompt, late = code_corr\n",
    "    chip_error = tracking.delay_discriminator(early, prompt, late)\n",
    "    phase_error = -tracking.costas_discriminator(prompt)  # minus sign used b/c phase is subtracted in signal correlator\n",
    "    chip_error = dll_filter.f(chip_error)\n",
    "    phase_error = pll_filter.f(phase_error)\n",
    "    dopp_error = (phase_error - last_phase_error) / (step * 2 * pi)\n",
    "    last_phase_error = phase_error\n",
    "    dopp_error = fll_filter.f(dopp_error)\n",
    "    # error correction\n",
    "    chip -= chip_error\n",
    "    theta -= phase_error\n",
    "    f_dopp -= dopp_error\n",
    "    # carrier-aiding and propagation\n",
    "    time += step\n",
    "    f_chip = signal.code.rate * (1. + f_dopp / signal.f_carrier)\n",
    "    chip += step * f_chip\n",
    "    f_inter = signal.f_carrier - source.f_center\n",
    "    theta += step * (f_inter + f_dopp) * 2. * pi\n",
    "    # outputs\n",
    "    chip_out = chip_out - chip_error\n",
    "    track_plot.push_data(time, real(prompt), imag(prompt), phase_error, f_dopp)"
   ]
  },
  {
   "cell_type": "code",
   "execution_count": 20,
   "metadata": {
    "collapsed": false,
    "scrolled": true
   },
   "outputs": [],
   "source": [
    "# fig = output.plot(library='matplotlib')\n",
    "# plt.show()\n",
    "track_plot.update()"
   ]
  },
  {
   "cell_type": "code",
   "execution_count": 3,
   "metadata": {
    "collapsed": false
   },
   "outputs": [
    {
     "data": {
      "text/html": [
       "<script type=\"text/javascript\">\n",
       "        Bokeh.$(function() {\n",
       "            var modelid = \"d0870da4-3432-4375-97e1-38dfbd05149d\";\n",
       "            var modeltype = \"Plot\";\n",
       "            var elementid = \"332de46b-51ae-4b6b-b7e7-eda960e6ebec\";\n",
       "            Bokeh.logger.info(\"Realizing plot:\")\n",
       "            Bokeh.logger.info(\" - modeltype: Plot\");\n",
       "            Bokeh.logger.info(\" - modelid: d0870da4-3432-4375-97e1-38dfbd05149d\");\n",
       "            Bokeh.logger.info(\" - elementid: 332de46b-51ae-4b6b-b7e7-eda960e6ebec\");\n",
       "            var all_models = [{\"id\": \"01d8bca8-775e-4f50-88d9-472f0a120227\", \"attributes\": {\"doc\": null, \"tags\": [], \"column_names\": [\"time\", \"y\"], \"data\": {\"time\": [0, 1, 2, 3, 4, 5, 6, 7, 8, 9, 10, 11, 12, 13, 14, 15, 16, 17, 18, 19], \"y\": [0.8641460449045186, 0.5958480097994684, 0.7913547787094597, 0.6151876739838164, 0.5321771173881399, 0.35902269073508164, 0.8223039472626976, 0.883658703882455, 0.06820066403818725, 0.8564098749620032, 0.6557413882708312, 0.033299077209676065, 0.393031961467162, 0.44811281230346345, 0.4750305175057473, 0.49501263985840704, 0.6505006584119056, 0.16398770998013434, 0.3554463460324794, 0.24541826427651303]}, \"id\": \"01d8bca8-775e-4f50-88d9-472f0a120227\", \"selected\": []}, \"type\": \"ColumnDataSource\"}, {\"id\": \"d0870da4-3432-4375-97e1-38dfbd05149d\", \"attributes\": {\"right\": [], \"title\": \"data\", \"tools\": [], \"id\": \"d0870da4-3432-4375-97e1-38dfbd05149d\", \"tags\": [], \"doc\": null, \"tool_events\": {\"id\": \"a7144ff3-b30b-4bab-aca1-2169fb984799\", \"type\": \"ToolEvents\"}, \"renderers\": [{\"id\": \"23ad9cca-171c-4fab-8a8c-e6cf7bad36f5\", \"type\": \"GlyphRenderer\"}], \"extra_x_ranges\": {}, \"below\": [], \"extra_y_ranges\": {}, \"y_range\": null, \"plot_height\": 250, \"above\": [], \"plot_width\": 250, \"left\": [], \"x_range\": null}, \"type\": \"Plot\"}, {\"id\": \"a9b5bddf-f833-4cba-a863-9a361cd3dfcf\", \"attributes\": {\"x\": {\"units\": \"data\", \"field\": \"time\"}, \"tags\": [], \"id\": \"a9b5bddf-f833-4cba-a863-9a361cd3dfcf\", \"doc\": null, \"y\": {\"units\": \"data\", \"field\": \"y\"}}, \"type\": \"Line\"}, {\"id\": \"a7144ff3-b30b-4bab-aca1-2169fb984799\", \"attributes\": {\"geometries\": [], \"id\": \"a7144ff3-b30b-4bab-aca1-2169fb984799\", \"tags\": [], \"doc\": null}, \"type\": \"ToolEvents\"}, {\"id\": \"23ad9cca-171c-4fab-8a8c-e6cf7bad36f5\", \"attributes\": {\"nonselection_glyph\": null, \"glyph\": {\"id\": \"a9b5bddf-f833-4cba-a863-9a361cd3dfcf\", \"type\": \"Line\"}, \"tags\": [], \"id\": \"23ad9cca-171c-4fab-8a8c-e6cf7bad36f5\", \"doc\": null, \"data_source\": {\"id\": \"01d8bca8-775e-4f50-88d9-472f0a120227\", \"type\": \"ColumnDataSource\"}, \"selection_glyph\": null}, \"type\": \"GlyphRenderer\"}];\n",
       "            Bokeh.load_models(all_models);\n",
       "            var model = Bokeh.Collections(modeltype).get(modelid);\n",
       "            var view = new model.default_view({model: model, el: '#332de46b-51ae-4b6b-b7e7-eda960e6ebec'});\n",
       "            Bokeh.index[modelid] = view\n",
       "        });\n",
       "    </script>\n",
       "<div class=\"plotdiv\" id=\"332de46b-51ae-4b6b-b7e7-eda960e6ebec\"></div>\n",
       "\n"
      ]
     },
     "metadata": {},
     "output_type": "display_data"
    }
   ],
   "source": [
    "from numpy import arange\n",
    "from numpy.random import rand\n",
    "from bokeh.plotting import output_notebook, show\n",
    "from bokeh.plotting import Plot, GridPlot\n",
    "from bokeh.models import ColumnDataSource, DataRange1d\n",
    "from bokeh.models.glyphs import Line\n",
    "\n",
    "output_notebook()\n",
    "time = arange(20)\n",
    "y = rand(len(time))\n",
    "data = ColumnDataSource(data=dict(time=time, y=y))\n",
    "x_range = DataRange1d(sources=[data.columns('time')])\n",
    "y_range = DataRange1d(sources=[data.columns('y')])\n",
    "plot = Plot(x_range=x_range, y_range=y_range, title='data', plot_width=250, plot_height=250)\n",
    "# plot = Plot(x_range=None, y_range=None, title='data', plot_width=250, plot_height=250)  # < ahh needs x_range/y_range!\n",
    "plot.add_glyph(data, Line(x='time', y='y'))\n",
    "show(plot)"
   ]
  },
  {
   "cell_type": "code",
   "execution_count": null,
   "metadata": {
    "collapsed": true
   },
   "outputs": [],
   "source": []
  }
 ],
 "metadata": {
  "kernelspec": {
   "display_name": "Python 3",
   "language": "python",
   "name": "python3"
  },
  "language_info": {
   "codemirror_mode": {
    "name": "ipython",
    "version": 3
   },
   "file_extension": ".py",
   "mimetype": "text/x-python",
   "name": "python",
   "nbconvert_exporter": "python",
   "pygments_lexer": "ipython3",
   "version": "3.4.3"
  }
 },
 "nbformat": 4,
 "nbformat_minor": 0
}
