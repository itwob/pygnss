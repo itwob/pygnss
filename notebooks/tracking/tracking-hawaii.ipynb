{
 "cells": [
  {
   "cell_type": "code",
   "execution_count": 1,
   "metadata": {
    "collapsed": false
   },
   "outputs": [],
   "source": [
    "import numpy\n",
    "npmax = numpy.max\n",
    "npmin = numpy.min\n",
    "from numpy import float32, pi, imag, real, mean, maximum, nanmean, nanstd, absolute\n",
    "\n",
    "from bokeh.plotting import Session, show, figure, output_server, hplot\n",
    "from bokeh.models import Range1d\n",
    "from bokeh.charts import Histogram\n",
    "\n",
    "from gnss import codes\n",
    "from gnss.receiver import channels\n",
    "from gnss.signals import Signal\n",
    "from gnss.receiver import sources\n",
    "from gnss.filters import iir_filter\n",
    "from gnss.acquisition import coarse, fine\n",
    "from gnss.receiver import outputs\n",
    "from gnss.tracking import tracking, CN0Algorithm\n",
    "from gnss.visualization import TrackingPlot, TrackingMultiPlot, CorrelationGridPlot, \\\n",
    "    CorrelationLinePlot, FinePhasePlot, sample_histogram"
   ]
  },
  {
   "cell_type": "code",
   "execution_count": 2,
   "metadata": {
    "collapsed": false
   },
   "outputs": [
    {
     "name": "stdout",
     "output_type": "stream",
     "text": [
      "14G\t/mnt/gluster/by-drives/WesternDigital/WMC5D0D6NF5D/20150424_122600_G26/HI_A1_20150424_122600_004634_GPSL1_USRP1.sc4\r\n"
     ]
    }
   ],
   "source": [
    "!du -hs /mnt/gluster/by-drives/WesternDigital/WMC5D0D6NF5D/20150424_122600_G26/HI_A1_20150424_122600_004634_GPSL1_USRP1.sc4"
   ]
  },
  {
   "cell_type": "code",
   "execution_count": 3,
   "metadata": {
    "collapsed": false
   },
   "outputs": [],
   "source": [
    "filepath = '/mnt/gluster/by-drives/WesternDigital/WMC5D0D6NF5D/20150424_122600_G26/HI_A1_20150424_122600_004634_GPSL5_USRP5.sc4'\n",
    "source = sources.FileSource(filepath, file_f_samp=25e6, f_center=1.17645e9, buffer_size=12.5e6, bit_depth=4, real=False, decimation=2)\n",
    "source.i_msb = False  # this file has real/imaginary components flipped"
   ]
  },
  {
   "cell_type": "code",
   "execution_count": 4,
   "metadata": {
    "collapsed": false
   },
   "outputs": [],
   "source": [
    "session = Session(root_url='http://192.168.3.137:5006/', load_from_config=False)\n",
    "session.login('anon', '1234')\n",
    "output_server('hawaii', session=session)"
   ]
  },
  {
   "cell_type": "code",
   "execution_count": 5,
   "metadata": {
    "collapsed": false
   },
   "outputs": [],
   "source": [
    "# fig = sample_histogram(source.buffer)\n",
    "# show(fig)"
   ]
  },
  {
   "cell_type": "code",
   "execution_count": 6,
   "metadata": {
    "collapsed": false
   },
   "outputs": [],
   "source": [
    "c_acq_plot = CorrelationLinePlot()\n",
    "f_acq_plot = FinePhasePlot()\n",
    "show(hplot(c_acq_plot.plot, f_acq_plot.plot))"
   ]
  },
  {
   "cell_type": "code",
   "execution_count": 14,
   "metadata": {
    "collapsed": true
   },
   "outputs": [],
   "source": [
    "step = 10e-3\n",
    "cn0_algo = CN0Algorithm()\n",
    "f_update = 1. / step\n",
    "block_duration = 10e-3\n",
    "block_size = block_duration * source.f_samp - 1\n",
    "output_buff_size = source.buffer_size / (step * source.f_samp)"
   ]
  },
  {
   "cell_type": "code",
   "execution_count": 15,
   "metadata": {
    "collapsed": true
   },
   "outputs": [],
   "source": [
    "i_corr_plot = TrackingPlot('i corr', output_buff_size)\n",
    "q_corr_plot = TrackingPlot('q corr', output_buff_size)\n",
    "phase_plot = TrackingPlot('phase error', output_buff_size)\n",
    "show(hplot(i_corr_plot.plot, q_corr_plot.plot, phase_plot.plot))\n",
    "buffer_size = round(source.file_duration)\n",
    "doppler_plot = TrackingPlot('doppler 1Hz', buffer_size)\n",
    "cn0_plot = TrackingPlot('cn0 1Hz', buffer_size)\n",
    "show(hplot(doppler_plot.plot, cn0_plot.plot))"
   ]
  },
  {
   "cell_type": "code",
   "execution_count": 9,
   "metadata": {
    "collapsed": false
   },
   "outputs": [
    {
     "name": "stdout",
     "output_type": "stream",
     "text": [
      "we have 1.0 seconds of data starting at 150.0 seconds\n"
     ]
    }
   ],
   "source": [
    "source.seek(time=150)\n",
    "source.load()\n",
    "print('we have {0} seconds of data starting at {1} seconds'.format(source.buffer_size / source.f_samp, source.buffer_start_time))"
   ]
  },
  {
   "cell_type": "code",
   "execution_count": 10,
   "metadata": {
    "collapsed": false
   },
   "outputs": [],
   "source": [
    "svid = 26\n",
    "signal = Signal.GPSL5_I(svid)\n",
    "\n",
    "c_acq = coarse.CoarseAcquirerLowMem(source, 20e-3, 1, dopp_min=-5000, dopp_max=5000)\n",
    "f_acq = fine.FineAcquirer(source, 2e-3, 1e-3, 29)"
   ]
  },
  {
   "cell_type": "code",
   "execution_count": 11,
   "metadata": {
    "collapsed": false
   },
   "outputs": [
    {
     "name": "stdout",
     "output_type": "stream",
     "text": [
      "71471.6904 -1750.0 150.0 68.7723334785\n"
     ]
    }
   ],
   "source": [
    "c_acq.acquire(signal)\n",
    "chip0 = c_acq.chip\n",
    "f_dopp0 = c_acq.f_dopp\n",
    "time = c_acq.time\n",
    "cn0 = c_acq.cn0\n",
    "print(chip0, f_dopp0, time, cn0)\n",
    "c_acq_plot.update(c_acq)"
   ]
  },
  {
   "cell_type": "code",
   "execution_count": 12,
   "metadata": {
    "collapsed": false
   },
   "outputs": [
    {
     "name": "stdout",
     "output_type": "stream",
     "text": [
      "71471.6904 -1776.59606237 150.0\n",
      "0.0 0.056 1.20780774086 -0.962958635816\n"
     ]
    }
   ],
   "source": [
    "f_acq.acquire(signal, time, chip0, f_dopp0)\n",
    "f_dopp = f_acq.f_dopp\n",
    "time = f_acq.time\n",
    "print(chip0, f_dopp, time)\n",
    "f_acq_plot.update(f_acq)"
   ]
  },
  {
   "cell_type": "code",
   "execution_count": 16,
   "metadata": {
    "collapsed": true
   },
   "outputs": [],
   "source": [
    "dll_filter = iir_filter.FirstOrderLowpass(10, f_update)\n",
    "pll_filter = iir_filter.FirstOrderLowpass(12, f_update)\n",
    "# pll_filter = iir_filter.SecondOrderLowpass(omega_n=5 * 12, zeta=1.7, fs=f_update)\n",
    "# pll_filter = iir_filter.SecondOrderLowpassV2(omega_n=5 * 32, zeta=1.7, fs=f_update)\n",
    "fll_filter = iir_filter.FirstOrderLowpass(1 / pi, f_update);  fll_filter.f(0);  fll_filter.f(0)\n",
    "\n",
    "delay = .5\n",
    "correlator = tracking.Correlator(chip_delays=[-2 * delay, -delay, 0., delay, 2 * delay])"
   ]
  },
  {
   "cell_type": "code",
   "execution_count": 17,
   "metadata": {
    "collapsed": false
   },
   "outputs": [],
   "source": [
    "time = f_acq.time\n",
    "theta = last_phase_error = 0.\n",
    "chip = chip_out = chip0\n",
    "f_dopp = f_acq.f_dopp\n",
    "source.seek(time)\n",
    "source.load()"
   ]
  },
  {
   "cell_type": "code",
   "execution_count": null,
   "metadata": {
    "collapsed": false
   },
   "outputs": [
    {
     "name": "stdout",
     "output_type": "stream",
     "text": [
      "-1777.57119631\n",
      "-1777.5989124\n",
      "-1777.37728579\n",
      "-1777.14337073\n",
      "-1776.93468211\n",
      "-1776.68887181\n",
      "-1776.50456433\n",
      "-1776.25093498\n",
      "-1776.06388378\n",
      "-1775.83809193"
     ]
    }
   ],
   "source": [
    "while True:\n",
    "    while time < source.max_time - block_duration:\n",
    "        code_corr, dopp_corr = correlator.correlate(signal, source, block_size, time, chip, f_dopp, theta)\n",
    "        earlier, early, prompt, late, later = code_corr\n",
    "        chip_error = tracking.delay_discriminator(earlier, prompt, later)\n",
    "        phase_error = -tracking.costas_discriminator(prompt)  # minus sign used b/c phase is subtracted in signal correlator\n",
    "        chip_error = dll_filter.f(chip_error)\n",
    "        phase_error = pll_filter.f(phase_error)\n",
    "        dopp_error = (phase_error - last_phase_error) / (step * 2 * pi)\n",
    "        last_phase_error = phase_error\n",
    "        dopp_error = fll_filter.f(dopp_error)\n",
    "        # error correction\n",
    "        chip -= chip_error\n",
    "        theta -= phase_error\n",
    "#         f_dopp += dopp_error\n",
    "        # carrier-aiding and propagation\n",
    "        time += step\n",
    "        f_chip = signal.code.rate * (1. + f_dopp / signal.f_carrier)\n",
    "        chip += step * f_chip\n",
    "        f_inter = signal.f_carrier - source.f_center\n",
    "        theta += step * (f_inter + f_dopp) * 2. * pi\n",
    "        # outputs\n",
    "        chip_out = chip_out - chip_error\n",
    "        i_corr_plot.push_data(time, real(prompt))\n",
    "        q_corr_plot.push_data(time, imag(prompt))\n",
    "        phase_plot.push_data(time, phase_error)\n",
    "#         print(f_dopp)\n",
    "    data = phase_plot.data.get()\n",
    "    f_dopp -= mean(data) / (2 * pi) / step\n",
    "    print(f_dopp)\n",
    "    i_corr_plot.update()\n",
    "    q_corr_plot.update()\n",
    "    phase_plot.update()\n",
    "    cn0 = cn0_algo.compute(i_corr_plot.data.get(), q_corr_plot.data.get(), step)\n",
    "    doppler_plot.push_data(time, f_dopp)\n",
    "    cn0_plot.push_data(time, cn0)\n",
    "    doppler_plot.update()\n",
    "    cn0_plot.update()\n",
    "    source.seek(time)\n",
    "    source.load()"
   ]
  },
  {
   "cell_type": "code",
   "execution_count": null,
   "metadata": {
    "collapsed": true
   },
   "outputs": [],
   "source": []
  }
 ],
 "metadata": {
  "kernelspec": {
   "display_name": "Python 3",
   "language": "python",
   "name": "python3"
  },
  "language_info": {
   "codemirror_mode": {
    "name": "ipython",
    "version": 3
   },
   "file_extension": ".py",
   "mimetype": "text/x-python",
   "name": "python",
   "nbconvert_exporter": "python",
   "pygments_lexer": "ipython3",
   "version": "3.4.3"
  }
 },
 "nbformat": 4,
 "nbformat_minor": 0
}
