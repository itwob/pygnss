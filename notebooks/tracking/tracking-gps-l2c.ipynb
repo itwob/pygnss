{
 "cells": [
  {
   "cell_type": "code",
   "execution_count": 1,
   "metadata": {
    "collapsed": false
   },
   "outputs": [],
   "source": [
    "import numpy\n",
    "npmax = numpy.max\n",
    "npmin = numpy.min\n",
    "from numpy import float32, pi, imag, real, mean, maximum, nanmean, nanstd, absolute\n",
    "\n",
    "from bokeh.plotting import Session, show, figure, output_server, hplot\n",
    "from bokeh.models import Range1d\n",
    "from bokeh.charts import Histogram\n",
    "\n",
    "from gnss import codes\n",
    "from gnss.receiver import channels\n",
    "from gnss.signals import Signal\n",
    "from gnss.receiver import sources\n",
    "from gnss.filters import iir_filter\n",
    "from gnss.acquisition import coarse, fine\n",
    "from gnss.receiver import outputs\n",
    "from gnss.tracking import tracking, CN0Algorithm\n",
    "from gnss.visualization import TrackingPlot, TrackingMultiPlot, CorrelationGridPlot, \\\n",
    "    CorrelationLinePlot, FinePhasePlot, sample_histogram"
   ]
  },
  {
   "cell_type": "code",
   "execution_count": 2,
   "metadata": {
    "collapsed": true
   },
   "outputs": [],
   "source": [
    "%reload_ext autoreload\n",
    "%autoreload 2"
   ]
  },
  {
   "cell_type": "code",
   "execution_count": 3,
   "metadata": {
    "collapsed": false
   },
   "outputs": [
    {
     "name": "stdout",
     "output_type": "stream",
     "text": [
      "1.3G\t/mnt/gluster/by-location/ascension-island/a1/gpsl2/usrp5/20130307_184310\r\n"
     ]
    }
   ],
   "source": [
    "!du -hs /mnt/gluster/by-location/ascension-island/a1/gpsl2/usrp5/20130307_184310"
   ]
  },
  {
   "cell_type": "markdown",
   "metadata": {},
   "source": [
    "\n",
    "We are using data from the USRP front ends. This data contains *signed 4-bit complex* samples.\n",
    "\n",
    "\n",
    "- L2:\n",
    "    - 5MHz sampling frequency\n",
    "    - 1.2276GHz center frequency\n",
    "\n",
    "- L1:\n",
    "    - 25MHz sampling\n",
    "    - 1.57542GHz center frequency\n",
    "    \n",
    "- L5:\n",
    "    - 25MHz sampling\n",
    "    - 1.17645GHz center frequency\n",
    "\n",
    "These files are large, so we should choose a reasonable buffer size for their data. 2 seconds worth of data would be:"
   ]
  },
  {
   "cell_type": "code",
   "execution_count": 4,
   "metadata": {
    "collapsed": false
   },
   "outputs": [
    {
     "data": {
      "text/plain": [
       "(10000000.0, 50000000.0)"
      ]
     },
     "execution_count": 4,
     "metadata": {},
     "output_type": "execute_result"
    }
   ],
   "source": [
    "5e6 * 2, 25e6 * 2"
   ]
  },
  {
   "cell_type": "markdown",
   "metadata": {},
   "source": [
    "which are 10 mega-samples and 50 mega-samples respectively."
   ]
  },
  {
   "cell_type": "code",
   "execution_count": 5,
   "metadata": {
    "collapsed": false
   },
   "outputs": [],
   "source": [
    "# f_center = 1.2276e9\n",
    "# file_f_samp = 5e6\n",
    "# filepath = '/mnt/gluster/by-location/ascension-island/a1/gpsl2/usrp5/20130307_184310'\n",
    "# source = sources.FileSource(filepath, file_f_samp=file_f_samp, f_center=f_center, buffer_size=10e6, bit_depth=4, real=False)\n",
    "# source.load()\n",
    "# print('we have {0} seconds of data'.format(source.buffer_size / source.f_samp))\n",
    "\n",
    "filepath = '/mnt/gluster/by-location/ascension-island/a1/gpsl2/usrp5/20130307_184310'\n",
    "source = sources.FileSource(filepath, file_f_samp=5e6, f_center=1.2276e9, buffer_size=4e6, bit_depth=4, real=False, decimation=2)"
   ]
  },
  {
   "cell_type": "code",
   "execution_count": 6,
   "metadata": {
    "collapsed": true
   },
   "outputs": [],
   "source": [
    "session = Session(root_url='http://192.168.3.137:5006/', load_from_config=False)\n",
    "session.login('anon', '1234')\n",
    "output_server('tracking-l2c', session=session)"
   ]
  },
  {
   "cell_type": "code",
   "execution_count": 7,
   "metadata": {
    "collapsed": false
   },
   "outputs": [],
   "source": [
    "c_acq_plot = CorrelationLinePlot()\n",
    "f_acq_plot = FinePhasePlot()\n",
    "show(hplot(c_acq_plot.plot, f_acq_plot.plot))"
   ]
  },
  {
   "cell_type": "code",
   "execution_count": 8,
   "metadata": {
    "collapsed": false
   },
   "outputs": [],
   "source": [
    "step = 2e-3\n",
    "cn0_algo = CN0Algorithm()\n",
    "f_update = 1. / step\n",
    "block_duration = 2e-3\n",
    "block_size = block_duration * source.f_samp - 1\n",
    "output_buff_size = source.buffer_size / (step * source.f_samp)"
   ]
  },
  {
   "cell_type": "code",
   "execution_count": 9,
   "metadata": {
    "collapsed": false,
    "scrolled": true
   },
   "outputs": [],
   "source": [
    "i_corr_plot = TrackingPlot('i corr', output_buff_size)\n",
    "q_corr_plot = TrackingPlot('q corr', output_buff_size)\n",
    "phase_plot = TrackingPlot('phase error', output_buff_size)\n",
    "show(hplot(i_corr_plot.plot, q_corr_plot.plot, phase_plot.plot))\n",
    "buffer_size = round(source.file_duration)\n",
    "doppler_plot = TrackingPlot('doppler 1Hz', buffer_size)\n",
    "cn0_plot = TrackingPlot('cn0 1Hz', buffer_size)\n",
    "show(hplot(doppler_plot.plot, cn0_plot.plot))"
   ]
  },
  {
   "cell_type": "code",
   "execution_count": 10,
   "metadata": {
    "collapsed": false
   },
   "outputs": [
    {
     "name": "stdout",
     "output_type": "stream",
     "text": [
      "we have 1.6 seconds of data starting at 20.0 seconds\n"
     ]
    }
   ],
   "source": [
    "source.seek(time=20)\n",
    "source.load()\n",
    "print('we have {0} seconds of data starting at {1} seconds'.format(source.buffer_size / source.f_samp, source.buffer_start_time))"
   ]
  },
  {
   "cell_type": "code",
   "execution_count": 12,
   "metadata": {
    "collapsed": false
   },
   "outputs": [],
   "source": [
    "svid = 5\n",
    "signal = Signal.GPSL2(svid)\n",
    "\n",
    "c_acq = coarse.CoarseAcquirerLowMem(source, 20e-3, 1, dopp_min=-5000, dopp_max=5000)\n",
    "f_acq = fine.FineAcquirer(source, 2e-3, 1e-3, 29)"
   ]
  },
  {
   "cell_type": "code",
   "execution_count": 13,
   "metadata": {
    "collapsed": false
   },
   "outputs": [
    {
     "name": "stdout",
     "output_type": "stream",
     "text": [
      "1516545.5316 -2250.0 20.0 65.5481965473\n"
     ]
    }
   ],
   "source": [
    "c_acq.acquire(signal)\n",
    "chip0 = c_acq.chip\n",
    "f_dopp0 = c_acq.f_dopp\n",
    "time = c_acq.time\n",
    "cn0 = c_acq.cn0\n",
    "print(chip0, f_dopp0, time, cn0)\n",
    "c_acq_plot.update(c_acq)"
   ]
  },
  {
   "cell_type": "code",
   "execution_count": 14,
   "metadata": {
    "collapsed": false
   },
   "outputs": [
    {
     "name": "stdout",
     "output_type": "stream",
     "text": [
      "1516545.5316 -2227.75063943 20.0\n",
      "0.0 0.056 -1.17124796958 -0.62011616326\n"
     ]
    }
   ],
   "source": [
    "f_acq.acquire(signal, time, chip0, f_dopp0)\n",
    "f_dopp = f_acq.f_dopp\n",
    "time = f_acq.time\n",
    "print(chip0, f_dopp, time)\n",
    "f_acq_plot.update(f_acq)"
   ]
  },
  {
   "cell_type": "code",
   "execution_count": 15,
   "metadata": {
    "collapsed": false
   },
   "outputs": [],
   "source": [
    "dll_filter = iir_filter.FirstOrderLowpass(10, f_update)\n",
    "pll_filter = iir_filter.FirstOrderLowpass(12, f_update)\n",
    "# pll_filter = iir_filter.SecondOrderLowpass(omega_n=5 * 12, zeta=1.7, fs=f_update)\n",
    "# pll_filter = iir_filter.SecondOrderLowpassV2(omega_n=5 * 32, zeta=1.7, fs=f_update)\n",
    "fll_filter = iir_filter.FirstOrderLowpass(1 / pi, f_update);  fll_filter.f(0);  fll_filter.f(0)\n",
    "\n",
    "delay = .5\n",
    "correlator = tracking.Correlator(chip_delays=[-2 * delay, -delay, 0., delay, 2 * delay])"
   ]
  },
  {
   "cell_type": "code",
   "execution_count": 16,
   "metadata": {
    "collapsed": true
   },
   "outputs": [],
   "source": [
    "time = f_acq.time\n",
    "theta = last_phase_error = 0.\n",
    "chip = chip_out = chip0\n",
    "f_dopp = f_acq.f_dopp\n",
    "source.seek(time)\n",
    "source.load()"
   ]
  },
  {
   "cell_type": "code",
   "execution_count": 17,
   "metadata": {
    "collapsed": false
   },
   "outputs": [
    {
     "name": "stdout",
     "output_type": "stream",
     "text": [
      "-2231.35727492\n",
      "-2237.68771711\n",
      "-2243.13162913\n",
      "-2245.45358273\n",
      "-2245.43559625\n",
      "-2247.18152519\n",
      "-2246.37915532\n",
      "-2246.72364074\n",
      "-2246.71638902\n",
      "-2246.66018563\n",
      "-2247.07536774\n",
      "-2246.78178483\n",
      "-2246.66088205\n",
      "-2246.90241901\n",
      "-2246.46809821\n",
      "-2247.39253364\n",
      "-2247.74909169\n",
      "-2246.21974692\n",
      "-2246.54312834\n",
      "-2246.52063155\n",
      "-2247.12265526\n",
      "-2246.40479583\n",
      "-2246.23766263\n",
      "-2246.02319195\n",
      "-2246.85682107\n",
      "-2246.80867781\n",
      "-2246.85698547\n",
      "-2246.39271839\n",
      "-2246.31467161\n",
      "-2247.86684089\n",
      "-2245.82351857\n",
      "-2247.24928058\n",
      "-2247.21350384\n",
      "-2247.04591582\n",
      "-2246.99143099\n",
      "-2245.66262952\n",
      "-2246.06743029\n",
      "-2246.69686252\n",
      "-2246.96034968\n",
      "-2246.54220269\n",
      "-2246.75184758\n",
      "-2247.34412553\n",
      "-2247.00704313\n",
      "-2247.2088681\n",
      "-2247.86592251\n",
      "-2247.13811431\n",
      "-2247.55150442\n",
      "-2247.20660903\n",
      "-2246.69157744\n",
      "-2247.1905038\n",
      "-2248.19260004\n",
      "-2246.34713071\n",
      "-2246.00545505\n",
      "-2247.60745945\n",
      "-2247.59289467\n",
      "-2247.03853264\n",
      "-2247.00231576\n",
      "-2246.71194546\n",
      "-2246.03993415\n",
      "-2246.76707039\n",
      "-2246.85446012\n",
      "-2247.48606177\n",
      "-2246.77792113\n",
      "-2247.40868505\n",
      "-2247.09587979\n",
      "-2247.43529916\n",
      "-2248.02465939\n",
      "-2247.28822279\n",
      "-2247.90159763\n",
      "-2247.85355527\n",
      "-2248.14207146\n",
      "-2247.55566012\n",
      "-2247.61466226\n",
      "-2248.37786898\n",
      "-2247.48331995\n",
      "-2248.13359933\n",
      "-2247.74361175\n",
      "-2247.48483244\n",
      "-2247.86223869\n",
      "-2247.09446814\n",
      "-2246.37413518\n",
      "-2247.47739566\n",
      "-2247.56869317\n",
      "-2247.46250636\n",
      "-2247.50302461\n",
      "-2247.5793027\n",
      "-2248.69296282\n",
      "-2247.77422982\n",
      "-2248.53488587\n",
      "-2248.11059209\n",
      "-2248.38832498\n",
      "-2248.50963541\n",
      "-2246.88544363\n",
      "-2246.88348135\n",
      "-2248.43973555\n",
      "-2246.91227561\n",
      "-2249.03422979\n",
      "-2248.54433753\n",
      "-2248.13339887\n",
      "-2246.99932818\n",
      "-2247.13412506\n",
      "-2248.2673491\n",
      "-2247.54227371\n",
      "-2248.54605208\n",
      "-2248.11515362\n",
      "-2247.85837314\n",
      "-2248.22143176\n",
      "-2247.87580396\n",
      "-2246.91913924\n",
      "-2247.52850674\n",
      "-2248.31247976\n",
      "-2247.58275927\n",
      "-2247.62899248\n",
      "-2246.17760415\n",
      "-2247.33222601\n",
      "-2246.48145769\n",
      "-2247.48685701\n",
      "-2247.71305152\n",
      "-2247.9206141\n",
      "-2247.3651169\n",
      "-2247.21847139\n",
      "-2247.64226382\n",
      "-2247.90069868\n",
      "-2247.85060683\n",
      "-2247.19127027\n",
      "-2247.03451573\n",
      "-2246.8305432\n",
      "-2247.14874576\n",
      "-2247.92656897\n",
      "-2248.14559513\n",
      "-2247.51305598\n",
      "-2247.53975372\n",
      "-2247.43335908\n",
      "-2247.5843\n",
      "-2247.02160526\n",
      "-2248.00840094\n",
      "-2246.836561\n",
      "-2247.54282965\n",
      "-2247.14420111\n",
      "-2246.786862\n",
      "-2246.78321263\n",
      "-2245.97082632\n",
      "-2247.12150172\n",
      "-2246.82929887\n",
      "-2247.48375951\n",
      "-2247.20934427\n",
      "-2247.46166125\n",
      "-2247.35354621\n",
      "-2246.83285839\n",
      "-2245.23552729\n"
     ]
    },
    {
     "ename": "Exception",
     "evalue": "time out of file range",
     "output_type": "error",
     "traceback": [
      "\u001b[1;31m---------------------------------------------------------------------------\u001b[0m",
      "\u001b[1;31mException\u001b[0m                                 Traceback (most recent call last)",
      "\u001b[1;32m<ipython-input-17-d194368afa24>\u001b[0m in \u001b[0;36m<module>\u001b[1;34m()\u001b[0m\n\u001b[0;32m     37\u001b[0m     \u001b[0mdoppler_plot\u001b[0m\u001b[1;33m.\u001b[0m\u001b[0mupdate\u001b[0m\u001b[1;33m(\u001b[0m\u001b[1;33m)\u001b[0m\u001b[1;33m\u001b[0m\u001b[0m\n\u001b[0;32m     38\u001b[0m     \u001b[0mcn0_plot\u001b[0m\u001b[1;33m.\u001b[0m\u001b[0mupdate\u001b[0m\u001b[1;33m(\u001b[0m\u001b[1;33m)\u001b[0m\u001b[1;33m\u001b[0m\u001b[0m\n\u001b[1;32m---> 39\u001b[1;33m     \u001b[0msource\u001b[0m\u001b[1;33m.\u001b[0m\u001b[0mseek\u001b[0m\u001b[1;33m(\u001b[0m\u001b[0mtime\u001b[0m\u001b[1;33m)\u001b[0m\u001b[1;33m\u001b[0m\u001b[0m\n\u001b[0m\u001b[0;32m     40\u001b[0m     \u001b[0msource\u001b[0m\u001b[1;33m.\u001b[0m\u001b[0mload\u001b[0m\u001b[1;33m(\u001b[0m\u001b[1;33m)\u001b[0m\u001b[1;33m\u001b[0m\u001b[0m\n",
      "\u001b[1;32m/home/breitsbw/projects/pygnss/gnss/receiver/sources.py\u001b[0m in \u001b[0;36mseek\u001b[1;34m(self, time)\u001b[0m\n\u001b[0;32m    134\u001b[0m         \u001b[1;32mif\u001b[0m \u001b[0mtime\u001b[0m \u001b[1;33m<\u001b[0m \u001b[1;36m0.\u001b[0m \u001b[1;32mor\u001b[0m \u001b[0mtime\u001b[0m \u001b[1;33m>=\u001b[0m \u001b[0mmax_time\u001b[0m \u001b[1;33m-\u001b[0m \u001b[0mself\u001b[0m\u001b[1;33m.\u001b[0m\u001b[0mbuffer_size\u001b[0m \u001b[1;33m/\u001b[0m \u001b[0mself\u001b[0m\u001b[1;33m.\u001b[0m\u001b[0mf_samp\u001b[0m\u001b[1;33m:\u001b[0m\u001b[1;33m\u001b[0m\u001b[0m\n\u001b[0;32m    135\u001b[0m             \u001b[1;31m# time out of bounds\u001b[0m\u001b[1;33m\u001b[0m\u001b[1;33m\u001b[0m\u001b[0m\n\u001b[1;32m--> 136\u001b[1;33m             \u001b[1;32mraise\u001b[0m \u001b[0mException\u001b[0m\u001b[1;33m(\u001b[0m\u001b[1;34m'time out of file range'\u001b[0m\u001b[1;33m)\u001b[0m\u001b[1;33m\u001b[0m\u001b[0m\n\u001b[0m\u001b[0;32m    137\u001b[0m         \u001b[0mself\u001b[0m\u001b[1;33m.\u001b[0m\u001b[0mfile_loc\u001b[0m \u001b[1;33m=\u001b[0m \u001b[0mint\u001b[0m\u001b[1;33m(\u001b[0m\u001b[0mtime\u001b[0m \u001b[1;33m*\u001b[0m \u001b[0mself\u001b[0m\u001b[1;33m.\u001b[0m\u001b[0msource_f_samp\u001b[0m \u001b[1;33m*\u001b[0m \u001b[0mself\u001b[0m\u001b[1;33m.\u001b[0m\u001b[0mbytes_per_sample\u001b[0m\u001b[1;33m)\u001b[0m\u001b[1;33m\u001b[0m\u001b[0m\n\u001b[0;32m    138\u001b[0m         \u001b[0mself\u001b[0m\u001b[1;33m.\u001b[0m\u001b[0mbuffer_start_time\u001b[0m \u001b[1;33m=\u001b[0m \u001b[0mself\u001b[0m\u001b[1;33m.\u001b[0m\u001b[0mfile_loc\u001b[0m \u001b[1;33m/\u001b[0m \u001b[0mself\u001b[0m\u001b[1;33m.\u001b[0m\u001b[0mbytes_per_sample\u001b[0m \u001b[1;33m/\u001b[0m \u001b[0mself\u001b[0m\u001b[1;33m.\u001b[0m\u001b[0msource_f_samp\u001b[0m\u001b[1;33m\u001b[0m\u001b[0m\n",
      "\u001b[1;31mException\u001b[0m: time out of file range"
     ]
    }
   ],
   "source": [
    "while True:\n",
    "    while time < source.max_time - block_duration:\n",
    "        code_corr, dopp_corr = correlator.correlate(signal, source, block_size, time, chip, f_dopp, theta)\n",
    "        earlier, early, prompt, late, later = code_corr\n",
    "        chip_error = tracking.delay_discriminator(earlier, prompt, later)\n",
    "        phase_error = -tracking.costas_discriminator(prompt)  # minus sign used b/c phase is subtracted in signal correlator\n",
    "        chip_error = dll_filter.f(chip_error)\n",
    "        phase_error = pll_filter.f(phase_error)\n",
    "        dopp_error = (phase_error - last_phase_error) / (step * 2 * pi)\n",
    "        last_phase_error = phase_error\n",
    "        dopp_error = fll_filter.f(dopp_error)\n",
    "        # error correction\n",
    "        chip -= chip_error\n",
    "        theta -= phase_error\n",
    "#         f_dopp += dopp_error\n",
    "        # carrier-aiding and propagation\n",
    "        time += step\n",
    "        f_chip = signal.code.rate * (1. + f_dopp / signal.f_carrier)\n",
    "        chip += step * f_chip\n",
    "        f_inter = signal.f_carrier - source.f_center\n",
    "        theta += step * (f_inter + f_dopp) * 2. * pi\n",
    "        # outputs\n",
    "        chip_out = chip_out - chip_error\n",
    "        i_corr_plot.push_data(time, real(prompt))\n",
    "        q_corr_plot.push_data(time, imag(prompt))\n",
    "        phase_plot.push_data(time, phase_error)\n",
    "#         print(f_dopp)\n",
    "    data = phase_plot.data.get()\n",
    "    f_dopp -= mean(data) / (2 * pi) / step\n",
    "    print(f_dopp)\n",
    "    i_corr_plot.update()\n",
    "    q_corr_plot.update()\n",
    "    phase_plot.update()\n",
    "    cn0 = cn0_algo.compute(i_corr_plot.data.get(), q_corr_plot.data.get(), step)\n",
    "    doppler_plot.push_data(time, f_dopp)\n",
    "    cn0_plot.push_data(time, cn0)\n",
    "    doppler_plot.update()\n",
    "    cn0_plot.update()\n",
    "    source.seek(time)\n",
    "    source.load()"
   ]
  },
  {
   "cell_type": "code",
   "execution_count": null,
   "metadata": {
    "collapsed": true
   },
   "outputs": [],
   "source": []
  }
 ],
 "metadata": {
  "kernelspec": {
   "display_name": "Python 3",
   "language": "python",
   "name": "python3"
  },
  "language_info": {
   "codemirror_mode": {
    "name": "ipython",
    "version": 3
   },
   "file_extension": ".py",
   "mimetype": "text/x-python",
   "name": "python",
   "nbconvert_exporter": "python",
   "pygments_lexer": "ipython3",
   "version": "3.4.3"
  }
 },
 "nbformat": 4,
 "nbformat_minor": 0
}
