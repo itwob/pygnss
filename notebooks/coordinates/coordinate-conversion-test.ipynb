{
 "cells": [
  {
   "cell_type": "code",
   "execution_count": 1,
   "metadata": {
    "collapsed": false
   },
   "outputs": [],
   "source": [
    "from numpy import array\n",
    "from numpy.linalg import norm\n",
    "from gnss.coordinates import ecef2enu, ecef2geo, ecef2sky, geo2ecef, geo2sky"
   ]
  },
  {
   "cell_type": "code",
   "execution_count": 2,
   "metadata": {
    "collapsed": false
   },
   "outputs": [],
   "source": [
    "rx_geo = array([39.5, -84.7, 251.])\n",
    "rx_ecef = array([455.24e3, -4907.3e3, 4035.5e3])\n",
    "sat_ecef = array([16361e3, 6029e3, 20213e3])"
   ]
  },
  {
   "cell_type": "code",
   "execution_count": 3,
   "metadata": {
    "collapsed": false
   },
   "outputs": [
    {
     "data": {
      "text/plain": [
       "array([  4.92631199e+01,   2.02287542e+01,   2.03286272e+07])"
      ]
     },
     "execution_count": 3,
     "metadata": {},
     "output_type": "execute_result"
    }
   ],
   "source": [
    "ecef2geo(sat_ecef)"
   ]
  },
  {
   "cell_type": "code",
   "execution_count": 4,
   "metadata": {
    "collapsed": false
   },
   "outputs": [
    {
     "name": "stdout",
     "output_type": "stream",
     "text": [
      "[  39.50042191  -84.69995899  252.06752778]\n",
      "[  455239.16353163 -4907329.17522665  4035463.17518235]\n",
      "[ 16847957.2741348   18474986.91820225   3021350.55542778]\n",
      "[ 42.36273153   6.89002974]\n"
     ]
    }
   ],
   "source": [
    "print(ecef2geo(rx_ecef))\n",
    "print(geo2ecef(rx_geo.reshape((1,3))))\n",
    "print(ecef2enu(rx_ecef, sat_ecef))\n",
    "print(ecef2sky(rx_ecef, sat_ecef))"
   ]
  },
  {
   "cell_type": "code",
   "execution_count": 5,
   "metadata": {
    "collapsed": false,
    "scrolled": true
   },
   "outputs": [
    {
     "name": "stdout",
     "output_type": "stream",
     "text": [
      "-4.65661287308e-10 20195.0900986 -6370968.16546\n",
      "[ -1.32113431e-12  -8.98183809e+01]\n"
     ]
    }
   ],
   "source": [
    "r_e = 6371e3\n",
    "a = array([1., 1., 1.])\n",
    "b = array([0., 0., -.1])\n",
    "a = a / norm(a) * r_e\n",
    "b = b / norm(a) * 3 * r_e\n",
    "print(' '.join([str(x) for x in ecef2enu(a, b)]))\n",
    "print(ecef2sky(a, b))"
   ]
  }
 ],
 "metadata": {
  "kernelspec": {
   "display_name": "Python 3",
   "language": "python",
   "name": "python3"
  },
  "language_info": {
   "codemirror_mode": {
    "name": "ipython",
    "version": 3
   },
   "file_extension": ".py",
   "mimetype": "text/x-python",
   "name": "python",
   "nbconvert_exporter": "python",
   "pygments_lexer": "ipython3",
   "version": "3.4.3"
  }
 },
 "nbformat": 4,
 "nbformat_minor": 0
}
