{
 "cells": [
  {
   "cell_type": "code",
   "execution_count": 1,
   "metadata": {
    "collapsed": false
   },
   "outputs": [
    {
     "name": "stdout",
     "output_type": "stream",
     "text": [
      "there are 27 leap second epochs\n"
     ]
    }
   ],
   "source": [
    "from numpy import sin, cos, arccos, arctan2, sqrt, pi, zeros, ones, asarray, radians, arange, fabs\n",
    "import numpy\n",
    "npmax = numpy.max\n",
    "from numpy.linalg import norm\n",
    "from urllib.request import urlopen\n",
    "from shutil import copyfileobj\n",
    "from collections import namedtuple\n",
    "\n",
    "from gnss.time import gpsseconds, gpstime, utctime\n",
    "from gnss.coordinates import ecef2sky, geo2ecef\n",
    "from gnss.orbits import compute_gps_satellite_position_from_yuma\n",
    "from gnss.visualization import SkyPlot"
   ]
  },
  {
   "cell_type": "code",
   "execution_count": 2,
   "metadata": {
    "collapsed": true
   },
   "outputs": [],
   "source": [
    "from bokeh.plotting import output_server, show, hplot, Session"
   ]
  },
  {
   "cell_type": "code",
   "execution_count": 3,
   "metadata": {
    "collapsed": true
   },
   "outputs": [],
   "source": [
    "session = Session(root_url='http://192.168.3.137:5006/', load_from_config=False)\n",
    "# session.register('anon', '1234')\n",
    "session.login('anon', '1234')\n",
    "output_server('almanac orbits', session=session)"
   ]
  },
  {
   "cell_type": "code",
   "execution_count": 4,
   "metadata": {
    "collapsed": true
   },
   "outputs": [],
   "source": [
    "sky_plot = SkyPlot()\n",
    "show(sky_plot.plot)\n",
    "# call `sky_plot.update(...)` to update plot"
   ]
  },
  {
   "cell_type": "code",
   "execution_count": 5,
   "metadata": {
    "collapsed": false
   },
   "outputs": [],
   "source": [
    "year = 2015\n",
    "almanac_filename = 'almanac.yuma.week0810.319488.txt'\n",
    "almanac_filepath = '../../data/' + almanac_filename\n",
    "almanac_url = 'http://celestrak.com/GPS/almanac/Yuma/{0}/{1}'.format(year, almanac_filename) \n",
    "with urlopen(almanac_url) as in_stream, open(almanac_filepath, 'wb') as out_file:\n",
    "    copyfileobj(in_stream, out_file)"
   ]
  },
  {
   "cell_type": "code",
   "execution_count": 6,
   "metadata": {
    "collapsed": false
   },
   "outputs": [
    {
     "name": "stdout",
     "output_type": "stream",
     "text": [
      "http://celestrak.com/GPS/almanac/Yuma/2015/almanac.yuma.week0810.319488.txt\n"
     ]
    }
   ],
   "source": [
    "print(almanac_url)"
   ]
  },
  {
   "cell_type": "code",
   "execution_count": 7,
   "metadata": {
    "collapsed": false
   },
   "outputs": [],
   "source": [
    "# !cat data/almanac.yuma.week0810.319488.txt"
   ]
  },
  {
   "cell_type": "code",
   "execution_count": 8,
   "metadata": {
    "collapsed": false
   },
   "outputs": [
    {
     "name": "stdout",
     "output_type": "stream",
     "text": [
      "YumaAlmanac(health=0, e=0.01445627213, t_oa=319488.0, i_0=0.940823973, Omega_dot=-7.977475151e-09, sqrt_a=5153.72998, Omega_week=-0.4596073839, omega=-2.307922781, M_0=1.544693936, A_f0=0.0005512237549, A_f1=3.637978807e-12, week=810)\n"
     ]
    }
   ],
   "source": [
    "# parse almanac\n",
    "YumaAlmanac = namedtuple('YumaAlmanac', 'health e t_oa i_0 Omega_dot sqrt_a Omega_week omega M_0 A_f0 A_f1 week')\n",
    "almanacs = {}\n",
    "with open(almanac_filepath, 'r') as f:\n",
    "    lines = f.readlines()\n",
    "    index = 0\n",
    "    while index < len(lines):\n",
    "        if lines[index].startswith('ID'):\n",
    "            svid = int(lines[index][25:])\n",
    "            health = int(lines[index + 1][25:])\n",
    "            e = float(lines[index + 2][25:])\n",
    "            t_oa = float(lines[index + 3][25:])\n",
    "            i_0 = float(lines[index + 4][25:])\n",
    "            Omega_dot = float(lines[index + 5][25:])\n",
    "            sqrt_a = float(lines[index + 6][25:])\n",
    "            Omega_week = float(lines[index + 7][25:])\n",
    "            omega = float(lines[index + 8][25:])\n",
    "            M_0 = float(lines[index + 9][25:])\n",
    "            A_f0 = float(lines[index + 10][25:])\n",
    "            A_f1 = float(lines[index + 11][25:])\n",
    "            week = int(lines[index + 12][25:])\n",
    "            almanacs[svid] = YumaAlmanac(health, e, t_oa, i_0, Omega_dot, sqrt_a, Omega_week, omega, M_0, A_f0, A_f1, week)\n",
    "            index += 13\n",
    "        index += 1\n",
    "print(almanacs[2])"
   ]
  },
  {
   "cell_type": "code",
   "execution_count": 9,
   "metadata": {
    "collapsed": false
   },
   "outputs": [
    {
     "name": "stdout",
     "output_type": "stream",
     "text": [
      "gps week and week seconds: 810   319488.000\n",
      "actual week and week seconds: 1834   319488.000\n"
     ]
    }
   ],
   "source": [
    "# ephemeric/almanac parameters\n",
    "svid = 1\n",
    "alm = almanacs[svid]\n",
    "# GPS week\n",
    "week = alm.week\n",
    "# eccentricity\n",
    "e = alm.e\n",
    "# time of applicability\n",
    "t_oa = alm.t_oa\n",
    "# orbital inclination at reference time\n",
    "i_0 = alm.i_0\n",
    "# rate of right ascension\n",
    "Omega_dot = alm.Omega_dot\n",
    "# semi-major axis??\n",
    "a = alm.sqrt_a**2\n",
    "# right ascension at start of week\n",
    "Omega_week = alm.Omega_week\n",
    "# argument of perigee\n",
    "omega = alm.omega\n",
    "# mean anomaly at reference time\n",
    "M_0 = alm.M_0\n",
    "# `A_f0` and `A_f1` are clock correction parameters\n",
    "# get time of applicability/ephemeris\n",
    "print('gps week and week seconds: {0}   {1:7.3f}'.format(week, t_oa))\n",
    "week, t_oe = gpstime(utctime(t_oa, week + 1024)).week_and_week_seconds\n",
    "print('actual week and week seconds: {0}   {1:7.3f}'.format(week, t_oe))"
   ]
  },
  {
   "cell_type": "code",
   "execution_count": 10,
   "metadata": {
    "collapsed": false
   },
   "outputs": [],
   "source": [
    "# ephemeris-only parameters\n",
    "# harmonic correction parameters (not available in almanac)\n",
    "c_us = c_rs = c_is = c_uc = c_rc = c_ic = 0.\n",
    "# mean anomaly offset\n",
    "delta_n = 0.\n",
    "# rate of inclination angle\n",
    "i_dot = 0."
   ]
  },
  {
   "cell_type": "code",
   "execution_count": 11,
   "metadata": {
    "collapsed": false
   },
   "outputs": [],
   "source": [
    "# generate user times\n",
    "t = gpsseconds(week, t_oe) + arange(0., 6. * 3600., 60.)\n",
    "# get time delta from ephemeris epoch\n",
    "delta_t = t - gpsseconds(week, t_oe)"
   ]
  },
  {
   "cell_type": "code",
   "execution_count": 12,
   "metadata": {
    "collapsed": false
   },
   "outputs": [],
   "source": [
    "# Earth gravitational constant (m^3/s^2)\n",
    "mu = 3.986005e14\n",
    "# WGS Earth rotation rate (rad/s)\n",
    "Omega_e_dot = 7.2921151467e-5\n",
    "# mean motion (rad/s)\n",
    "n_0 = sqrt(mu / a**3)\n",
    "# corrected mean motion\n",
    "n = n_0 + delta_n\n",
    "# mean anomaly\n",
    "M = M_0 + n * delta_t\n",
    "# eccentric anomaly\n",
    "# we minimize (E + e * sin(E) - M)**2; derivative with respect to E is 2 * (E + e * sin(E) - M) * (1 + e * cos(E))\n",
    "E = 0.\n",
    "err = 1.\n",
    "tol = 1e-10\n",
    "while err > tol:\n",
    "    _temp = M + e * sin(E)\n",
    "    err = npmax(fabs(_temp - E))\n",
    "    E = _temp\n",
    "# true anomaly\n",
    "nu = arctan2(sqrt(1. - e**2) * sin(E), cos(E) - e)\n",
    "# eccentric anomaly\n",
    "E = arccos((e + cos(nu)) / (1. + e * cos(nu)))\n",
    "# argument of latitude\n",
    "Phi = nu + omega\n",
    "# secord-order harmonic perturbation corrections\n",
    "delta_u = c_us * sin(2 * Phi) + c_uc * cos(2 * Phi)\n",
    "delta_r = c_rs * sin(2 * Phi) + c_rc * cos(2 * Phi)\n",
    "delta_i = c_is * sin(2 * Phi) + c_ic * cos(2 * Phi)\n",
    "# argument of latitude (corrected)\n",
    "u = Phi + delta_u\n",
    "# orbital radius (corrected)\n",
    "r = a * (1. - e * cos(E)) + delta_r\n",
    "# inclination (corrected)\n",
    "i = i_0 + delta_i + i_dot * delta_t\n",
    "# longitude of ascensing node (corrected)\n",
    "Omega = Omega_week + (Omega_dot - Omega_e_dot) * delta_t - Omega_e_dot * t_oe"
   ]
  },
  {
   "cell_type": "code",
   "execution_count": 13,
   "metadata": {
    "collapsed": false
   },
   "outputs": [],
   "source": [
    "# compute x,y in orbital plane\n",
    "x_orb = r * cos(u)\n",
    "y_orb = r * sin(u)\n",
    "# compute x,y velocity in orbital plane\n",
    "v_x_orb = n * a * sin(E) / (1. - e * cos(E))\n",
    "v_y_orb = -n * a * sqrt(1. - e**2) * cos(E) / (1. - e * cos(E))\n",
    "# transform from orbital system to ECEF system\n",
    "x_ecef = x_orb * cos(Omega) - y_orb * sin(Omega) * cos(i)\n",
    "y_ecef = x_orb * sin(Omega) + y_orb * cos(Omega) * cos(i)\n",
    "z_ecef = y_orb * sin(i)\n",
    "# put into array\n",
    "sv_ecef = asarray([x_ecef, y_ecef, z_ecef])"
   ]
  },
  {
   "cell_type": "code",
   "execution_count": 14,
   "metadata": {
    "collapsed": false,
    "scrolled": true
   },
   "outputs": [
    {
     "name": "stdout",
     "output_type": "stream",
     "text": [
      "radius of satellite orbit: 26510892.47501812\n",
      "1109523288.0 [-14306555.54144303   5367015.46551261  21664372.44312714]\n"
     ]
    }
   ],
   "source": [
    "print('radius of satellite orbit: {0}'.format(norm(sv_ecef, axis=0)[10]))\n",
    "print(t[10], sv_ecef[:, 10])"
   ]
  },
  {
   "cell_type": "markdown",
   "metadata": {},
   "source": [
    "-1.9258e7, -7.6316e6, 1.6673e7\n",
    "\n",
    "325504"
   ]
  },
  {
   "cell_type": "markdown",
   "metadata": {},
   "source": [
    "Hong Kong coordinates:\n",
    "\n",
    "$$22^o 12’ 34.2647’’, 114^o 15’ 28.5115’’$$"
   ]
  },
  {
   "cell_type": "code",
   "execution_count": 15,
   "metadata": {
    "collapsed": false
   },
   "outputs": [],
   "source": [
    "rx_geo = [45.209517972, 114.257919861, 0.0]\n",
    "# rx_geo = [22.209517972, 114.257919861, 0.0]\n",
    "rx_ecef = geo2ecef(rx_geo)"
   ]
  },
  {
   "cell_type": "code",
   "execution_count": 52,
   "metadata": {
    "collapsed": false
   },
   "outputs": [
    {
     "name": "stdout",
     "output_type": "stream",
     "text": [
      "radius of satellite orbit: 26786143.414283298\n",
      "1109523288.0 [-25235573.55869067  -8254911.87577486   3538323.9107883 ]\n"
     ]
    }
   ],
   "source": [
    "svid = 19\n",
    "almanac = almanacs[svid]\n",
    "t = gpsseconds(almanac.week, almanac.t_oa, rollover=1) + arange(0., 6 * 3600, 60)\n",
    "sv_ecef = compute_gps_satellite_position_from_yuma(almanac, t, rollover=1)\n",
    "sky = ecef2sky(rx_ecef, sv_ecef)\n",
    "print('radius of satellite orbit: {0}'.format(norm(sv_ecef, axis=0)[10]))\n",
    "print(t[10], sv_ecef[:, 10])"
   ]
  },
  {
   "cell_type": "code",
   "execution_count": 53,
   "metadata": {
    "collapsed": false
   },
   "outputs": [
    {
     "name": "stdout",
     "output_type": "stream",
     "text": [
      "(684,) (684,) 269\n",
      "(269,) (269,)\n"
     ]
    }
   ],
   "source": [
    "sky_plot.update(svid, sky[::10, 0], sky[::10, 1])"
   ]
  },
  {
   "cell_type": "code",
   "execution_count": 18,
   "metadata": {
    "collapsed": false
   },
   "outputs": [],
   "source": [
    "az = sky[::6, 0]\n",
    "el = sky[::6, 1]\n",
    "r = 90. - el\n",
    "theta = radians(az)\n",
    "ind = r > 90\n",
    "r = r[ind]\n",
    "theta = theta[ind]\n",
    "sky_plot.update(svid, r, theta)"
   ]
  },
  {
   "cell_type": "code",
   "execution_count": 65,
   "metadata": {
    "collapsed": false
   },
   "outputs": [],
   "source": [
    "visibility = np.zeros((32, len(t),))"
   ]
  },
  {
   "cell_type": "markdown",
   "metadata": {},
   "source": [
    ".\n",
    "\n",
    ".\n",
    "\n",
    ".\n",
    "\n",
    "."
   ]
  },
  {
   "cell_type": "markdown",
   "metadata": {},
   "source": [
    "Below, we consolidate this functionality into one function."
   ]
  },
  {
   "cell_type": "code",
   "execution_count": 3,
   "metadata": {
    "collapsed": true
   },
   "outputs": [],
   "source": [
    "# // implemented under gnss/orbits/gps_orbits.py"
   ]
  },
  {
   "cell_type": "code",
   "execution_count": 68,
   "metadata": {
    "collapsed": true
   },
   "outputs": [],
   "source": [
    "from matplotlib.pyplot import rc, grid, figure, plot, rcParams, savefig\n",
    "from numpy import radians\n",
    "\n",
    "class SkyPlot:\n",
    "    \n",
    "    def __init__(self, fig=None, where=(0.1, .1, .8, .8)):\n",
    "        if not fig:\n",
    "            # force square figure and square axes looks better for polar, IMO\n",
    "            width, height = rcParams['figure.figsize']\n",
    "            size = min(width, height)\n",
    "            # make a square figure\n",
    "            fig = figure(figsize=(size, size))\n",
    "        rc('grid', color='#316931', linewidth=1, linestyle='-')\n",
    "        rc('xtick', labelsize=15)\n",
    "        rc('ytick', labelsize=15)\n",
    "        self.fig = fig\n",
    "        self.ax = self.fig.add_axes(where, polar=True, axisbg='#d5de9c')\n",
    "        self.ax.set_theta_zero_location('N')\n",
    "        self.ax.set_theta_direction(-1)\n",
    "        self.ax.set_yticks(range(0, 90+10, 10))                   # Define the yticks\n",
    "        yLabel = ['90', '', '', '60', '', '', '30', '', '', '']\n",
    "        self.ax.set_yticklabels(yLabel)\n",
    "        self.ax.grid(True)\n",
    "        \n",
    "    def plot(self, azimuth, elevation, prn=' '):\n",
    "        prn = str(prn)\n",
    "        self.ax.annotate(prn,\n",
    "                        xy=(np.deg2rad(azimuth[0]), 90 - elevation[0]),  # theta, radius\n",
    "                        bbox=dict(boxstyle='round', fc=(.9,.95,.99), alpha = 0.8),\n",
    "                        horizontalalignment='center',\n",
    "                        verticalalignment='center')\n",
    "        self.ax.scatter(np.deg2rad(azimuth), 90 - elevation)\n",
    "        self.ax.set_ylim(0, 100)\n"
   ]
  },
  {
   "cell_type": "code",
   "execution_count": 85,
   "metadata": {
    "collapsed": false
   },
   "outputs": [],
   "source": [
    "import matplotlib.pyplot as plt\n",
    "\n",
    "fig = plt.figure()\n",
    "\n",
    "skyplot = SkyPlot(fig, where=(.1, .1, .4, .7))\n",
    "\n",
    "for i, svid in enumerate(range(1, 33)):\n",
    "    if svid not in almanacs.keys():\n",
    "        continue\n",
    "    alm = almanacs[svid]\n",
    "    sv_ecef = compute_gps_satellite_position_from_yuma(alm, t)\n",
    "    sky = coordinates.ecef2sky(rx_ecef, sv_ecef)\n",
    "    skyplot.plot(sky[:, 0], sky[:, 1], prn=svid)\n",
    "    visibility[i, :] = sky[:, 1] > 0.  # elevation is greater than zero\n",
    "\n",
    "ax = fig.add_axes([.6, .1, .35, .35])\n",
    "n, bins = np.histogram(np.sum(visibility, axis=0), bins=np.arange(0, 20, 1))\n",
    "n = n / np.sum(n)\n",
    "ax.bar(bins[:-1], n)\n",
    "ax.set_title('probability of # visible satellites')\n",
    "ax.set_xlabel('# satellites')\n",
    "ax.set_ylabel('probability')\n",
    "\n",
    "ax = fig.add_axes([.6, .55, .35, .35])\n",
    "for svid in range(1, 33):\n",
    "    time = t.copy() - t[0]\n",
    "    time[visibility[svid-1, :] == 0] = np.nan\n",
    "    ax.scatter(time, svid * np.ones((len(time),)))\n",
    "ax.set_title('visibility')\n",
    "ax.set_xlabel('time (s)')\n",
    "ax.set_ylabel('prn')\n",
    "\n",
    "plt.show()\n",
    "plt.close()"
   ]
  },
  {
   "cell_type": "code",
   "execution_count": 81,
   "metadata": {
    "collapsed": false
   },
   "outputs": [
    {
     "name": "stdout",
     "output_type": "stream",
     "text": [
      "0.995656399738\n",
      "[-13982294.22872636   6984513.59443379  21403749.70731708]\n",
      "[ 32.92919031  35.43179518]\n",
      "319488.0\n",
      "1834\n"
     ]
    }
   ],
   "source": [
    "svid = 1\n",
    "alm = almanacs[svid]\n",
    "sv_ecef = compute_gps_satellite_position_from_yuma(alm, t)\n",
    "sky = coordinates.ecef2sky(rx_ecef, sv_ecef)\n",
    "print(sv_ecef[:, 0])\n",
    "print(sky[0, :])\n",
    "print(t[0])\n",
    "print(week)"
   ]
  },
  {
   "cell_type": "code",
   "execution_count": null,
   "metadata": {
    "collapsed": false
   },
   "outputs": [],
   "source": []
  }
 ],
 "metadata": {
  "kernelspec": {
   "display_name": "Python 3",
   "language": "python",
   "name": "python3"
  },
  "language_info": {
   "codemirror_mode": {
    "name": "ipython",
    "version": 3
   },
   "file_extension": ".py",
   "mimetype": "text/x-python",
   "name": "python",
   "nbconvert_exporter": "python",
   "pygments_lexer": "ipython3",
   "version": "3.4.3"
  }
 },
 "nbformat": 4,
 "nbformat_minor": 0
}
